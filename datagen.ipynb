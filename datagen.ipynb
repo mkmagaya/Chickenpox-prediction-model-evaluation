{
 "cells": [
  {
   "cell_type": "code",
   "execution_count": 1,
   "id": "f5e27fe2",
   "metadata": {},
   "outputs": [],
   "source": [
    "import numpy as np\n",
    "import pandas as pd"
   ]
  },
  {
   "cell_type": "code",
   "execution_count": 11,
   "id": "8776c1a1",
   "metadata": {},
   "outputs": [],
   "source": [
    "# Define the number of samplaes\n",
    "num_samples = 100000\n",
    "\n",
    "# Generating random data for age (between 1-100)\n",
    "age = np.random.randint(1, 101, size=num_samples)\n",
    "\n",
    "# Generating random gender (binary: 0 for Male, 1 for Female)\n",
    "gender = np.random.randint(0, 2, size=num_samples)\n",
    "\n",
    "# Generating random vaccination status (binary: 0 for Fully Vaccinated, 1 for Partially vaccinated, 2 for Not Vaccinated)\n",
    "vaccination_status = np.random.randint(0, 3, size=num_samples)\n",
    "\n",
    "# Generating random data for symptoms (binary: 0 for No, 1 for Yes)\n",
    "fever = np.random.randint(0, 2, size=num_samples)\n",
    "rash = np.random.randint(0, 2, size=num_samples)\n",
    "itching = np.random.randint(0, 2, size=num_samples)\n",
    "fatigue = np.random.randint(0, 2, size=num_samples)\n"
   ]
  },
  {
   "cell_type": "code",
   "execution_count": 12,
   "id": "14abb9e3",
   "metadata": {},
   "outputs": [],
   "source": [
    "# Create a DataFrame\n",
    "df = pd.DataFrame({\n",
    "    'Age': age,\n",
    "    'Gender': gender,\n",
    "    'Vaccination_Status': vaccination_status,\n",
    "    'Fever': fever,\n",
    "    'Rash': rash,\n",
    "    'Itching': itching,\n",
    "    'Fatigue': fatigue\n",
    "})"
   ]
  },
  {
   "cell_type": "code",
   "execution_count": 13,
   "id": "c4a9953f",
   "metadata": {},
   "outputs": [],
   "source": [
    "# Generate target variable\n",
    "df['Chickenpox'] = np.where((df['Age'] < 18) | ((df['Age'] >= 18) & (df['Fever'] == 1) & (df['Rash'] == 1)), 1, 0)\n",
    "\n",
    "# Save data\n",
    "df.to_csv('chickenpox_dataset.csv', index=False)"
   ]
  }
 ],
 "metadata": {
  "kernelspec": {
   "display_name": "Python 3 (ipykernel)",
   "language": "python",
   "name": "python3"
  },
  "language_info": {
   "codemirror_mode": {
    "name": "ipython",
    "version": 3
   },
   "file_extension": ".py",
   "mimetype": "text/x-python",
   "name": "python",
   "nbconvert_exporter": "python",
   "pygments_lexer": "ipython3",
   "version": "3.10.4"
  }
 },
 "nbformat": 4,
 "nbformat_minor": 5
}
